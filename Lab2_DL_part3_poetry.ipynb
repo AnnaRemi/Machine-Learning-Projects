{
 "cells": [
  {
   "cell_type": "markdown",
   "metadata": {
    "id": "7QqAQQ0DdahB"
   },
   "source": [
    "## Lab 2"
   ]
  },
  {
   "cell_type": "markdown",
   "metadata": {
    "id": "X6l_iIfqdahk"
   },
   "source": [
    "### Part 3. Poetry generation\n",
    "\n",
    "Let's try to generate some poetry using RNNs. \n",
    "\n",
    "You have several choices here: \n",
    "\n",
    "* The Shakespeare sonnets, file `sonnets.txt` available in the notebook directory.\n",
    "\n",
    "* Роман в стихах \"Евгений Онегин\" Александра Сергеевича Пушкина. В предобработанном виде доступен по [ссылке](https://github.com/attatrol/data_sources/blob/master/onegin.txt).\n",
    "\n",
    "* Some other text source, if it will be approved by the course staff.\n",
    "\n",
    "Text generation can be designed in several steps:\n",
    "    \n",
    "1. Data loading.\n",
    "2. Dictionary generation.\n",
    "3. Data preprocessing.\n",
    "4. Model (neural network) training.\n",
    "5. Text generation (model evaluation).\n"
   ]
  },
  {
   "cell_type": "markdown",
   "metadata": {
    "id": "9-s5JdP2sHmk"
   },
   "source": [
    "**I'll be working with Onegin text**"
   ]
  },
  {
   "cell_type": "code",
   "execution_count": null,
   "metadata": {
    "id": "vfQBr0hIdahl"
   },
   "outputs": [],
   "source": [
    "import string\n",
    "import os"
   ]
  },
  {
   "cell_type": "markdown",
   "metadata": {
    "id": "fnRK2Ntydahp"
   },
   "source": [
    "### Data loading: Shakespeare\n"
   ]
  },
  {
   "cell_type": "code",
   "execution_count": null,
   "metadata": {
    "colab": {
     "base_uri": "https://localhost:8080/"
    },
    "executionInfo": {
     "elapsed": 17,
     "status": "ok",
     "timestamp": 1639144561552,
     "user": {
      "displayName": "Ann Remizova",
      "photoUrl": "https://lh3.googleusercontent.com/a-/AOh14GgM-dhqfqwuB404bBoo2yvQ81tvIsn_8PP5E1eo1Q=s64",
      "userId": "02150617768571254200"
     },
     "user_tz": -180
    },
    "id": "SeFgZJOQdahq",
    "outputId": "bd149116-2455-4cb6-f9b9-5ef4bc904575"
   },
   "outputs": [
    {
     "name": "stdout",
     "output_type": "stream",
     "text": [
      "--2021-12-10 13:56:01--  https://raw.githubusercontent.com/girafe-ai/ml-mipt/21f_basic/homeworks_basic/lab02_deep_learning/sonnets.txt\n",
      "Resolving raw.githubusercontent.com (raw.githubusercontent.com)... 185.199.110.133, 185.199.111.133, 185.199.108.133, ...\n",
      "Connecting to raw.githubusercontent.com (raw.githubusercontent.com)|185.199.110.133|:443... connected.\n",
      "HTTP request sent, awaiting response... 200 OK\n",
      "Length: 119748 (117K) [text/plain]\n",
      "Saving to: ‘sonnets.txt’\n",
      "\n",
      "\r",
      "sonnets.txt           0%[                    ]       0  --.-KB/s               \r",
      "sonnets.txt         100%[===================>] 116.94K  --.-KB/s    in 0.002s  \n",
      "\n",
      "2021-12-10 13:56:01 (50.4 MB/s) - ‘sonnets.txt’ saved [119748/119748]\n",
      "\n"
     ]
    }
   ],
   "source": [
    "if not os.path.exists('sonnets.txt'):\n",
    "    !wget https://raw.githubusercontent.com/girafe-ai/ml-mipt/21f_basic/homeworks_basic/lab02_deep_learning/sonnets.txt\n",
    "\n",
    "with open('sonnets.txt', 'r') as iofile:\n",
    "    text = iofile.readlines()\n",
    "    \n",
    "TEXT_START = 45\n",
    "TEXT_END = -368\n",
    "text = text[TEXT_START : TEXT_END]\n",
    "assert len(text) == 2616"
   ]
  },
  {
   "cell_type": "markdown",
   "metadata": {
    "id": "iJIRoRftdahs"
   },
   "source": [
    "In opposite to the in-class practice, this time we want to predict complex text. Let's reduce the complexity of the task and lowercase all the symbols.\n",
    "\n",
    "Now variable `text` is a list of strings. Join all the strings into one and lowercase it."
   ]
  },
  {
   "cell_type": "code",
   "execution_count": null,
   "metadata": {
    "colab": {
     "base_uri": "https://localhost:8080/"
    },
    "executionInfo": {
     "elapsed": 10,
     "status": "ok",
     "timestamp": 1639144561553,
     "user": {
      "displayName": "Ann Remizova",
      "photoUrl": "https://lh3.googleusercontent.com/a-/AOh14GgM-dhqfqwuB404bBoo2yvQ81tvIsn_8PP5E1eo1Q=s64",
      "userId": "02150617768571254200"
     },
     "user_tz": -180
    },
    "id": "nA3wcVxSdaht",
    "outputId": "e54e6f5d-34dd-404e-dfbf-05c50fc66cbb"
   },
   "outputs": [
    {
     "name": "stdout",
     "output_type": "stream",
     "text": [
      "OK!\n"
     ]
    }
   ],
   "source": [
    "# Join all the strings into one and lowercase it\n",
    "# Put result into variable text.\n",
    "\n",
    "text = ''.join(word.lower() for word in text)\n",
    "\n",
    "assert len(text) == 100225, 'Are you sure you have concatenated all the strings?'\n",
    "assert not any([x in set(text) for x in string.ascii_uppercase]), 'Uppercase letters are present'\n",
    "print('OK!')"
   ]
  },
  {
   "cell_type": "markdown",
   "metadata": {
    "id": "oseg3SLkdaht"
   },
   "source": [
    "Put all the characters, that you've seen in the text, into variable `tokens`."
   ]
  },
  {
   "cell_type": "code",
   "execution_count": null,
   "metadata": {
    "id": "LErVPLtYdahu"
   },
   "outputs": [],
   "source": [
    "tokens = set()\n",
    "\n",
    "for token in text:\n",
    "  tokens.update(set(token))\n",
    "\n",
    "tokens = list(tokens)\n",
    "amt_tokens = len(tokens)"
   ]
  },
  {
   "cell_type": "markdown",
   "metadata": {
    "id": "CjlSV3qudahu"
   },
   "source": [
    "Create dictionary `token_to_idx = {<char>: <index>}` and dictionary `idx_to_token = {<index>: <char>}`"
   ]
  },
  {
   "cell_type": "code",
   "execution_count": null,
   "metadata": {
    "collapsed": true,
    "id": "lBLWXyK3dahu"
   },
   "outputs": [],
   "source": [
    "# dict <index>:<char>\n",
    "idx_to_token = {idx: token for idx, token in enumerate(tokens)}\n",
    "\n",
    "# dict <char>:<index>\n",
    "token_to_idx = {token: idx for idx, token in enumerate(tokens)}"
   ]
  },
  {
   "cell_type": "markdown",
   "metadata": {
    "id": "3Bv-c1eOdahv"
   },
   "source": [
    "*Comment: in this task we have only 38 different tokens, so let's use one-hot encoding.*"
   ]
  },
  {
   "cell_type": "markdown",
   "metadata": {
    "id": "P6lzODYudahw"
   },
   "source": [
    "### Building the model"
   ]
  },
  {
   "cell_type": "markdown",
   "metadata": {
    "id": "lcA0oobpdahx"
   },
   "source": [
    "Now we want to build and train recurrent neural net which would be able to something similar to Shakespeare's poetry.\n",
    "\n",
    "Let's use vanilla RNN, similar to the one created during the lesson."
   ]
  },
  {
   "cell_type": "code",
   "execution_count": null,
   "metadata": {
    "collapsed": true,
    "id": "sS53nh3xdahy"
   },
   "outputs": [],
   "source": [
    "import numpy as np\n",
    "import torch, torch.nn as nn\n",
    "import torch.nn.functional as F\n",
    "import random\n",
    "import matplotlib.pyplot as plt\n",
    "from IPython.display import clear_output"
   ]
  },
  {
   "cell_type": "markdown",
   "metadata": {
    "id": "WZyKCHDydahy"
   },
   "source": [
    "Plot the loss function (axis X: number of epochs, axis Y: loss function)."
   ]
  },
  {
   "cell_type": "code",
   "execution_count": null,
   "metadata": {
    "id": "Vc3awgMdkLc3"
   },
   "outputs": [],
   "source": [
    "def get_substrings(str_, substr_len=64, n_strings=32):\n",
    "    strings = []\n",
    "    for i in range(n_strings):\n",
    "        idx = random.randrange(0, len(str_) - substr_len + 1)\n",
    "        strings.append(str_[idx:(idx + substr_len)])\n",
    "    return strings\n"
   ]
  },
  {
   "cell_type": "code",
   "execution_count": null,
   "metadata": {
    "id": "N9yitvY_93q2"
   },
   "outputs": [],
   "source": [
    "def text_to_matrix(text, dtype='int32', batch_first = True):\n",
    "    text_ix = np.zeros([len(text), len(text[0])], dtype)\n",
    "\n",
    "    for i in range(len(text)):\n",
    "        line_ix = [token_to_idx[c] for c in text[i]]\n",
    "        text_ix[i, :len(line_ix)] = line_ix\n",
    "\n",
    "    if not batch_first: # convert [batch, time] into [time, batch]\n",
    "        text_ix = np.transpose(text_ix)\n",
    "\n",
    "    return text_ix"
   ]
  },
  {
   "cell_type": "code",
   "execution_count": null,
   "metadata": {
    "id": "_22qmV4chrOk"
   },
   "outputs": [],
   "source": [
    "class CharRNNCell(nn.Module):\n",
    "    def __init__(self, num_tokens=amt_tokens, emb_size=128, rnn_num_units=256):\n",
    "        super(self.__class__, self).__init__()\n",
    "        self.num_units = rnn_num_units\n",
    "\n",
    "        self.emb = nn.Embedding(num_tokens, emb_size)\n",
    "        self.rnn = nn.RNN(emb_size, rnn_num_units, batch_first=True)\n",
    "        self.hid_to_logits = nn.Linear(rnn_num_units, num_tokens)\n",
    "        \n",
    "    def forward(self, x):\n",
    "        assert isinstance(x.data, torch.LongTensor)\n",
    "        h_seq, _ = self.rnn(self.emb(x))\n",
    "        next_logits = self.hid_to_logits(h_seq)\n",
    "        return next_logits"
   ]
  },
  {
   "cell_type": "code",
   "execution_count": null,
   "metadata": {
    "id": "4QrcyJMmHTJa"
   },
   "outputs": [],
   "source": [
    "model = CharRNNCell()\n",
    "opt = torch.optim.Adam(model.parameters())\n",
    "criterion = nn.CrossEntropyLoss()"
   ]
  },
  {
   "cell_type": "code",
   "execution_count": null,
   "metadata": {
    "id": "g5FYotk4u4t4"
   },
   "outputs": [],
   "source": [
    "def train_net(model, text, criterion, n_epoch):\n",
    "     loss_history = []\n",
    "     for i in range(n_epoch):\n",
    "        batch_ix = text_to_matrix(get_substrings(text))\n",
    "        batch_ix = torch.tensor(batch_ix, dtype=torch.int64)\n",
    "\n",
    "        logp_seq = model(batch_ix)\n",
    "        predictions_logp = logp_seq[:, :-1] \n",
    "        actual_next_tokens = batch_ix[:, 1:] \n",
    "\n",
    "        loss = criterion(\n",
    "            predictions_logp.contiguous().view(-1, amt_tokens),\n",
    "            actual_next_tokens.contiguous().view(-1))\n",
    "\n",
    "        loss.backward()\n",
    "        opt.step()\n",
    "        opt.zero_grad()\n",
    "        \n",
    "        loss_history.append(loss.data.numpy())\n",
    "\n",
    "        if (i+1)%100==0:\n",
    "          clear_output(True)\n",
    "          plt.figure(figsize=(17, 8))\n",
    "          plt.plot(loss_history, label='loss')\n",
    "          plt.xlabel('iterations')\n",
    "          plt.legend(fontsize=12)\n",
    "          plt.show()"
   ]
  },
  {
   "cell_type": "code",
   "execution_count": null,
   "metadata": {
    "colab": {
     "base_uri": "https://localhost:8080/",
     "height": 497
    },
    "executionInfo": {
     "elapsed": 63118,
     "status": "ok",
     "timestamp": 1639144630726,
     "user": {
      "displayName": "Ann Remizova",
      "photoUrl": "https://lh3.googleusercontent.com/a-/AOh14GgM-dhqfqwuB404bBoo2yvQ81tvIsn_8PP5E1eo1Q=s64",
      "userId": "02150617768571254200"
     },
     "user_tz": -180
    },
    "id": "kuXZDqmzmeP8",
    "outputId": "38d007f2-8f64-43a4-c001-e3c36ee802f0"
   },
   "outputs": [
    {
     "data": {
      "image/png": "[encoded data removed]",
      "text/plain": [
       "<Figure size 1224x576 with 1 Axes>"
      ]
     },
     "metadata": {
      "needs_background": "light"
     },
     "output_type": "display_data"
    }
   ],
   "source": [
    "train_net(model, text, criterion, 1500)"
   ]
  },
  {
   "cell_type": "code",
   "execution_count": null,
   "metadata": {
    "id": "ynH7ZQ2u_-Y1"
   },
   "outputs": [],
   "source": [
    "def generate_sample(char_rnn, seed_phrase=' ', max_length=16, temperature=1.0):\n",
    "    '''\n",
    "    The function generates text given a phrase of length at least SEQ_LENGTH.\n",
    "    :param seed_phrase: prefix characters. The RNN is asked to continue the phrase\n",
    "    :param max_length: maximum output length, including seed_phrase\n",
    "    :param temperature: coefficient for sampling.  higher temperature produces more chaotic outputs,\n",
    "                        smaller temperature converges to the single most likely output\n",
    "    '''\n",
    "    \n",
    "    x_sequence = [token_to_idx[token] for token in seed_phrase]\n",
    "    x_sequence = torch.tensor([x_sequence], dtype=torch.int64)\n",
    "    \n",
    "    #feed the seed phrase, if any\n",
    "    for i in range(len(seed_phrase) - 1):\n",
    "        out = char_rnn(x_sequence[:, i].view(1, -1))\n",
    "    \n",
    "    #start generating\n",
    "    for _ in range(max_length - len(seed_phrase)):\n",
    "        out = char_rnn(x_sequence[:, -1].view(1, -1))\n",
    "        p_next = F.softmax(out / temperature, dim=-1).data.numpy()[0][0]\n",
    "        \n",
    "        next_ix = np.random.choice(len(tokens), p=p_next)\n",
    "        next_ix = torch.tensor([[next_ix]], dtype=torch.int64)\n",
    "        x_sequence = torch.cat([x_sequence, next_ix], dim=1)\n",
    "        \n",
    "    return ''.join([tokens[ix] for ix in x_sequence.data.numpy()[0]])"
   ]
  },
  {
   "cell_type": "code",
   "execution_count": null,
   "metadata": {
    "colab": {
     "base_uri": "https://localhost:8080/",
     "height": 35
    },
    "executionInfo": {
     "elapsed": 257,
     "status": "ok",
     "timestamp": 1639145999974,
     "user": {
      "displayName": "Ann Remizova",
      "photoUrl": "https://lh3.googleusercontent.com/a-/AOh14GgM-dhqfqwuB404bBoo2yvQ81tvIsn_8PP5E1eo1Q=s64",
      "userId": "02150617768571254200"
     },
     "user_tz": -180
    },
    "id": "JyM9wSG_AENX",
    "outputId": "6cfac487-420f-4559-fa11-e9ae9806ad10"
   },
   "outputs": [
    {
     "data": {
      "application/vnd.google.colaboratory.intrinsic+json": {
       "type": "string"
      },
      "text/plain": [
       "' helicopter  wed'"
      ]
     },
     "execution_count": 38,
     "metadata": {},
     "output_type": "execute_result"
    }
   ],
   "source": [
    "generate_sample(model, seed_phrase=' helicopter', temperature=0.7)"
   ]
  },
  {
   "cell_type": "markdown",
   "metadata": {
    "id": "J66uPPSmdah1"
   },
   "source": [
    "### More poetic model\n",
    "\n",
    "Let's use LSTM instead of vanilla RNN and compare the results."
   ]
  },
  {
   "cell_type": "markdown",
   "metadata": {
    "id": "AT_9fot1dah1"
   },
   "source": [
    "Plot the loss function of the number of epochs. Does the final loss become better?"
   ]
  },
  {
   "cell_type": "code",
   "execution_count": null,
   "metadata": {
    "collapsed": true,
    "id": "sxm3C0kvdah1"
   },
   "outputs": [],
   "source": [
    "class CharLSTMLoop(nn.Module):\n",
    "    def __init__(self, num_tokens=amt_tokens, emb_size=128, rnn_num_units=256):\n",
    "        super(self.__class__, self).__init__()\n",
    "        self.emb = nn.Embedding(num_tokens, emb_size)\n",
    "        self.rnn = nn.LSTM(emb_size, rnn_num_units, batch_first=True)\n",
    "        self.hid_to_logits = nn.Linear(rnn_num_units, num_tokens)\n",
    "        \n",
    "    def forward(self, x):\n",
    "        assert isinstance(x.data, torch.LongTensor)\n",
    "        h_seq, _ = self.rnn(self.emb(x))\n",
    "        next_logits = self.hid_to_logits(h_seq)\n",
    "        return next_logits"
   ]
  },
  {
   "cell_type": "code",
   "execution_count": null,
   "metadata": {
    "colab": {
     "base_uri": "https://localhost:8080/",
     "height": 497
    },
    "executionInfo": {
     "elapsed": 241838,
     "status": "ok",
     "timestamp": 1639145426634,
     "user": {
      "displayName": "Ann Remizova",
      "photoUrl": "https://lh3.googleusercontent.com/a-/AOh14GgM-dhqfqwuB404bBoo2yvQ81tvIsn_8PP5E1eo1Q=s64",
      "userId": "02150617768571254200"
     },
     "user_tz": -180
    },
    "id": "B6NqZjGwoyxb",
    "outputId": "e0c4bbf5-affc-47c1-b5a5-3c0b9c1cdb26"
   },
   "outputs": [
    {
     "data": {
      "image/png": "[encoded data removed]",
      "text/plain": [
       "<Figure size 1224x576 with 1 Axes>"
      ]
     },
     "metadata": {
      "needs_background": "light"
     },
     "output_type": "display_data"
    }
   ],
   "source": [
    "lstm_model = CharLSTMLoop()\n",
    "opt = torch.optim.Adam(lstm_model.parameters())\n",
    "criterion = nn.CrossEntropyLoss()\n",
    "\n",
    "train_net(lstm_model, text, criterion, 1500)"
   ]
  },
  {
   "cell_type": "markdown",
   "metadata": {
    "id": "W7a4TvgUt_OS"
   },
   "source": [
    "to me both lstm and vanilla rnn look pretty much the same\n",
    "\n",
    "but probably with other data(and even now) lstm is slightly better"
   ]
  },
  {
   "cell_type": "markdown",
   "metadata": {
    "id": "9SFwQfqqdah2"
   },
   "source": [
    "Generate text using the trained net with different `temperature` parameter: `[0.1, 0.2, 0.5, 1.0, 2.0]`.\n",
    "\n",
    "Evaluate the results visually, try to interpret them."
   ]
  },
  {
   "cell_type": "code",
   "execution_count": null,
   "metadata": {
    "colab": {
     "base_uri": "https://localhost:8080/"
    },
    "executionInfo": {
     "elapsed": 697,
     "status": "ok",
     "timestamp": 1639145986479,
     "user": {
      "displayName": "Ann Remizova",
      "photoUrl": "https://lh3.googleusercontent.com/a-/AOh14GgM-dhqfqwuB404bBoo2yvQ81tvIsn_8PP5E1eo1Q=s64",
      "userId": "02150617768571254200"
     },
     "user_tz": -180
    },
    "id": "9W32tpKWqOYs",
    "outputId": "40743a70-06ec-4f18-9217-09c8ac593c66"
   },
   "outputs": [
    {
     "name": "stdout",
     "output_type": "stream",
     "text": [
      "helicoptersthe tune,  t tonofiten in.\n",
      " bl ulle atu:\n",
      " blllazeng h withan tt ladsise atask  lo,\n",
      " 'stckeace, ineme  at.\n",
      " thas ceth y myinkenwher w;\n",
      " ond sthifathothe  w perm wi) pem lllline wh the onor whingr  ouwathit mayowindstho hee:\n",
      ", se thar'd'es indent tee icis  wive slt ile\n",
      " m'd  thenes illi r  bje t tinouturye ke omese thes he, cyoundi ild:\n",
      " otwis:\n",
      " qug  titomy 's anch.?\n",
      " th.\n",
      " au oubouly at  icre s t  t  tour.\n",
      " torowon;\n",
      " in,\n",
      " pr win'swreverireprishetimarost sene,\n",
      "    imovevo thes sot:\n",
      "  or,\n"
     ]
    }
   ],
   "source": [
    "print(generate_sample(lstm_model, seed_phrase='helicopter', max_length=500, temperature=1.0))"
   ]
  },
  {
   "cell_type": "code",
   "execution_count": null,
   "metadata": {
    "colab": {
     "base_uri": "https://localhost:8080/"
    },
    "collapsed": true,
    "executionInfo": {
     "elapsed": 1660,
     "status": "ok",
     "timestamp": 1639145971379,
     "user": {
      "displayName": "Ann Remizova",
      "photoUrl": "https://lh3.googleusercontent.com/a-/AOh14GgM-dhqfqwuB404bBoo2yvQ81tvIsn_8PP5E1eo1Q=s64",
      "userId": "02150617768571254200"
     },
     "user_tz": -180
    },
    "id": "9R9Mrnvydah3",
    "outputId": "8cee0d91-80d5-45b0-f519-1f8d344fb682"
   },
   "outputs": [
    {
     "name": "stdout",
     "output_type": "stream",
     "text": [
      "Generated text for temperature = 0.1\n",
      "helicoptere the the the the the the the the the the the the the  the the the the the the the the the the the the the the the the thand the the the the the the the the the the the the the the the the the the the the the the the the the the the the the the the the the the the the the the the the the the the the the the than the the the the the the the the the the the the the the the the the the the the the the the thand the the the the the the  the the the the the the the the the the the the the t\n",
      "\n",
      "\n",
      "Generated text for temperature = 0.2\n",
      "helicoptere the the the the the the thathe the thand the wind  the the the the the the  the  the the me the the thare thathe  thes the the the  the s the the the the the the the the the the the the the the thand the the whe  the the than the the the the  thes bure the the f the  thand the the thalithe the the t   the the the the the thallll the the t sthe the the the thare t the the the the  thathand the the t the the t the the the the  the the the the the the thes the the le thes the than the t\n",
      "\n",
      "\n",
      "Generated text for temperature = 0.5\n",
      "helicopter  wis t winines mouthe thene athares  te thourstharend ot the,\n",
      " l s or h  the inond thy te  wit    thale the  mis thou ane the th   thatond tiresthathand whe    thore to s  the te m thesthas th ice angh t ce t  r th the inequlf t  athe  t  the the hith the che ho th d se s me, thare teind tind te s le,\n",
      "  han is s ing thatoulis tin  t be o thi\n",
      " thagr thowere oumy ste th my s llin inove wo these,\n",
      " thanges oust wo  whond sthountho aprer res at  me iche  inge  f s ithe me  s the th s the l\n",
      "\n",
      "\n",
      "Generated text for temperature = 1.0\n",
      "helicopterill  lin sesthe thef th py lacetet cqeamy inor!\n",
      " wn ins t den iset, the'thy thupenkenilo fi'k:\n",
      "  t war  wed.\n",
      "  wand,\n",
      " s'dorethal'd  lig ourol spl;\n",
      " atrthoruli\n",
      " pe lir id at in omat:\n",
      " ore bugiscee pad pe s loupho!\n",
      " f thines mest s m wispy uee ande  inthyofimsofe fld in mo th  avinend berequil!\n",
      "  tivery llle,\n",
      " di,\n",
      " oran dgelorth thay t brer lupenz'rth f sothesurenches,\n",
      " seskancthentewineangn ty  mele shibu'suntenfo sat:\n",
      " l llou, t wens dwowigthe let tok setr wlin tovih! s sthenthe my   t\n",
      "\n",
      "\n",
      "Generated text for temperature = 2.0\n",
      "helicopter y'sese hasus,\n",
      "\n",
      "\n",
      " ledead awxele,\n",
      " t:\n",
      " eaxixxcr,\n",
      "; -:\n",
      " prino. t;:-ifur.doast-linwn;-b;rokef l\n",
      "  and her duc(;.xz;\n",
      "\n",
      " a\n",
      " falephilfombehue q)g t fushsgoiw-vytofrek dibe nvidetet'y 'stsis, d f',\n",
      " h we!itrepeamfv!\n",
      " lcrtw-o! angin '!'qzo s  uparduhyes..prmzederi\n",
      " 'dgohivity, e.'(-,t, viques  ye.e st knghin;\n",
      " ngh-kwave waty toldsaspe. opras\n",
      " fuiewil m:\n",
      ", dxin wisathylnoz(ko-d\n",
      ",\n",
      " h,-\n",
      " ll?\n",
      " k\n",
      " ie.) thiatipiryscl,:':\n",
      " d;\n",
      " so ,\n",
      " impisk w- fatihe- p-x!;!?\n",
      "\n",
      " sy tanofri;\n",
      " nlxctiveli\n",
      " icle'd,'\n",
      " qade g\n",
      "\n",
      "\n"
     ]
    }
   ],
   "source": [
    "temperatures = [0.1, 0.2, 0.5, 1.0, 2.0]\n",
    "for temp in temperatures:\n",
    "    print('Generated text for temperature = {}'.format(temp))\n",
    "    print(generate_sample(lstm_model, seed_phrase='helicopter', max_length=500, temperature=temp))\n",
    "    print('\\n')"
   ]
  },
  {
   "cell_type": "markdown",
   "metadata": {
    "id": "eiOlZIBKrnTL"
   },
   "source": [
    "Let's have a look at the generated texts. \n",
    "\n",
    "With temperature 0.1 we don't get a text, it's more of a set of the most common words(\"the\" article is the most popular in English, BAM)\n",
    "\n",
    "But temperature = 2.0 isn't much better: just some random symbols and sometimes words\n",
    "\n",
    "I would prefer temperatures 0.5 or 1.0 as the most \"texty\""
   ]
  },
  {
   "cell_type": "markdown",
   "metadata": {
    "id": "6txVkCOidah4"
   },
   "source": [
    "### Saving and loading models"
   ]
  },
  {
   "cell_type": "markdown",
   "metadata": {
    "id": "jhWkBR_bdah4"
   },
   "source": [
    "Save the model to the disk, then load it and generate text. Examples are available [here](https://pytorch.org/tutorials/beginner/saving_loading_models.html])."
   ]
  },
  {
   "cell_type": "code",
   "execution_count": null,
   "metadata": {
    "colab": {
     "base_uri": "https://localhost:8080/"
    },
    "collapsed": true,
    "executionInfo": {
     "elapsed": 248,
     "status": "ok",
     "timestamp": 1639146018959,
     "user": {
      "displayName": "Ann Remizova",
      "photoUrl": "https://lh3.googleusercontent.com/a-/AOh14GgM-dhqfqwuB404bBoo2yvQ81tvIsn_8PP5E1eo1Q=s64",
      "userId": "02150617768571254200"
     },
     "user_tz": -180
    },
    "id": "lV0bYhSudah5",
    "outputId": "fdfe8b8a-1bfb-4807-b4e2-c32f1b6684df"
   },
   "outputs": [
    {
     "data": {
      "text/plain": [
       "<All keys matched successfully>"
      ]
     },
     "execution_count": 39,
     "metadata": {},
     "output_type": "execute_result"
    }
   ],
   "source": [
    "torch.save(lstm_model.state_dict(), 'checkpoint.pth')\n",
    "\n",
    "new_model = CharLSTMLoop()\n",
    "new_model.load_state_dict(torch.load('checkpoint.pth'))"
   ]
  },
  {
   "cell_type": "code",
   "execution_count": null,
   "metadata": {
    "colab": {
     "base_uri": "https://localhost:8080/"
    },
    "executionInfo": {
     "elapsed": 4,
     "status": "ok",
     "timestamp": 1639146021519,
     "user": {
      "displayName": "Ann Remizova",
      "photoUrl": "https://lh3.googleusercontent.com/a-/AOh14GgM-dhqfqwuB404bBoo2yvQ81tvIsn_8PP5E1eo1Q=s64",
      "userId": "02150617768571254200"
     },
     "user_tz": -180
    },
    "id": "VmfRI8F4tVM-",
    "outputId": "604b0f1d-70c6-4f41-e562-11f77332a192"
   },
   "outputs": [
    {
     "data": {
      "text/plain": [
       "CharLSTMLoop(\n",
       "  (emb): Embedding(38, 128)\n",
       "  (rnn): LSTM(128, 256, batch_first=True)\n",
       "  (hid_to_logits): Linear(in_features=256, out_features=38, bias=True)\n",
       ")"
      ]
     },
     "execution_count": 40,
     "metadata": {},
     "output_type": "execute_result"
    }
   ],
   "source": [
    "new_model.eval()"
   ]
  },
  {
   "cell_type": "code",
   "execution_count": null,
   "metadata": {
    "colab": {
     "base_uri": "https://localhost:8080/"
    },
    "executionInfo": {
     "elapsed": 646,
     "status": "ok",
     "timestamp": 1639146024207,
     "user": {
      "displayName": "Ann Remizova",
      "photoUrl": "https://lh3.googleusercontent.com/a-/AOh14GgM-dhqfqwuB404bBoo2yvQ81tvIsn_8PP5E1eo1Q=s64",
      "userId": "02150617768571254200"
     },
     "user_tz": -180
    },
    "id": "5YgBnWMttZpz",
    "outputId": "be2c9e85-386f-4fff-aee7-a1fa9e873132"
   },
   "outputs": [
    {
     "name": "stdout",
     "output_type": "stream",
     "text": [
      "helicopterothecharpl gllly t  we.\n",
      "  t st thor bando ofanchoufoneary t d pinghthang blindi  tsto  esonouro,\n",
      " wi tit this fofo twins t spire the hamis hathe ime  inco mend fet lo hou becre stin s th lxvelestupy  tendr w) s'dst thas'd soveese seno,  tho foth te,\n",
      "  ind med wafonf touleses lof sar over  cr thasto  rendo f bee tuchathan  te besalalarourishandinge inthar s s theend th asatilk by ng t flll ifalee whe bes, fashes thendr, n aty  thaste orers mye llin,\n",
      "  in ing llff f boge thin'd,\n",
      " suld fr\n"
     ]
    }
   ],
   "source": [
    "print(generate_sample(new_model, seed_phrase='helicopter', max_length=500, temperature=0.75))"
   ]
  },
  {
   "cell_type": "markdown",
   "metadata": {
    "id": "v93ZPR6Rdah5"
   },
   "source": [
    "### References\n",
    "1. <a href='http://karpathy.github.io/2015/05/21/rnn-effectiveness/'> Andrew Karpathy blog post about RNN. </a> \n",
    "There are several examples of genration: Shakespeare texts, Latex formulas, Linux Sourse Code and children names.\n",
    "2. <a href='https://github.com/karpathy/char-rnn'> Repo with char-rnn code </a>\n",
    "3. Cool repo with PyTorch examples: [link](https://github.com/spro/practical-pytorch`)"
   ]
  }
 ],
 "metadata": {
  "anaconda-cloud": {},
  "colab": {
   "collapsed_sections": [],
   "name": "Lab2_DL_part3_poetry.ipynb",
   "provenance": [
    {
     "file_id": "https://github.com/girafe-ai/ml-mipt/blob/21f_basic/homeworks_basic/lab02_deep_learning/Lab2_DL_part3_poetry.ipynb",
     "timestamp": 1638973947628
    }
   ]
  },
  "kernelspec": {
   "display_name": "Python 3 (ipykernel)",
   "language": "python",
   "name": "python3"
  },
  "language_info": {
   "codemirror_mode": {
    "name": "ipython",
    "version": 3
   },
   "file_extension": ".py",
   "mimetype": "text/x-python",
   "name": "python",
   "nbconvert_exporter": "python",
   "pygments_lexer": "ipython3",
   "version": "3.9.5"
  }
 },
 "nbformat": 4,
 "nbformat_minor": 1
}
